{
 "cells": [
  {
   "cell_type": "code",
   "execution_count": 47,
   "id": "ae3b20e8",
   "metadata": {},
   "outputs": [],
   "source": [
    "#Import statements\n",
    "import numpy as np\n",
    "import pandas as pd\n",
    "import seaborn as sns\n",
    "import matplotlib.pyplot as plt"
   ]
  },
  {
   "cell_type": "code",
   "execution_count": 4,
   "id": "6de678de",
   "metadata": {},
   "outputs": [],
   "source": [
    "#Import metadata\n",
    "dataset_dir = '/Users/emilypark/ECE228/archive/csv/dicom_info.csv'"
   ]
  },
  {
   "cell_type": "code",
   "execution_count": 6,
   "id": "8810631d",
   "metadata": {},
   "outputs": [
    {
     "data": {
      "text/html": [
       "<div>\n",
       "<style scoped>\n",
       "    .dataframe tbody tr th:only-of-type {\n",
       "        vertical-align: middle;\n",
       "    }\n",
       "\n",
       "    .dataframe tbody tr th {\n",
       "        vertical-align: top;\n",
       "    }\n",
       "\n",
       "    .dataframe thead th {\n",
       "        text-align: right;\n",
       "    }\n",
       "</style>\n",
       "<table border=\"1\" class=\"dataframe\">\n",
       "  <thead>\n",
       "    <tr style=\"text-align: right;\">\n",
       "      <th></th>\n",
       "      <th>file_path</th>\n",
       "      <th>image_path</th>\n",
       "      <th>AccessionNumber</th>\n",
       "      <th>BitsAllocated</th>\n",
       "      <th>BitsStored</th>\n",
       "      <th>BodyPartExamined</th>\n",
       "      <th>Columns</th>\n",
       "      <th>ContentDate</th>\n",
       "      <th>ContentTime</th>\n",
       "      <th>ConversionType</th>\n",
       "      <th>...</th>\n",
       "      <th>SecondaryCaptureDeviceManufacturerModelName</th>\n",
       "      <th>SeriesDescription</th>\n",
       "      <th>SeriesInstanceUID</th>\n",
       "      <th>SeriesNumber</th>\n",
       "      <th>SmallestImagePixelValue</th>\n",
       "      <th>SpecificCharacterSet</th>\n",
       "      <th>StudyDate</th>\n",
       "      <th>StudyID</th>\n",
       "      <th>StudyInstanceUID</th>\n",
       "      <th>StudyTime</th>\n",
       "    </tr>\n",
       "  </thead>\n",
       "  <tbody>\n",
       "    <tr>\n",
       "      <th>0</th>\n",
       "      <td>CBIS-DDSM/dicom/1.3.6.1.4.1.9590.100.1.2.12930...</td>\n",
       "      <td>CBIS-DDSM/jpeg/1.3.6.1.4.1.9590.100.1.2.129308...</td>\n",
       "      <td>NaN</td>\n",
       "      <td>16</td>\n",
       "      <td>16</td>\n",
       "      <td>BREAST</td>\n",
       "      <td>351</td>\n",
       "      <td>20160426</td>\n",
       "      <td>131732.685</td>\n",
       "      <td>WSD</td>\n",
       "      <td>...</td>\n",
       "      <td>MATLAB</td>\n",
       "      <td>cropped images</td>\n",
       "      <td>1.3.6.1.4.1.9590.100.1.2.129308726812851964007...</td>\n",
       "      <td>1</td>\n",
       "      <td>23078</td>\n",
       "      <td>ISO_IR 100</td>\n",
       "      <td>20160720.0</td>\n",
       "      <td>DDSM</td>\n",
       "      <td>1.3.6.1.4.1.9590.100.1.2.271867287611061855725...</td>\n",
       "      <td>214951.0</td>\n",
       "    </tr>\n",
       "    <tr>\n",
       "      <th>1</th>\n",
       "      <td>CBIS-DDSM/dicom/1.3.6.1.4.1.9590.100.1.2.24838...</td>\n",
       "      <td>CBIS-DDSM/jpeg/1.3.6.1.4.1.9590.100.1.2.248386...</td>\n",
       "      <td>NaN</td>\n",
       "      <td>16</td>\n",
       "      <td>16</td>\n",
       "      <td>BREAST</td>\n",
       "      <td>3526</td>\n",
       "      <td>20160426</td>\n",
       "      <td>143829.101</td>\n",
       "      <td>WSD</td>\n",
       "      <td>...</td>\n",
       "      <td>MATLAB</td>\n",
       "      <td>full mammogram images</td>\n",
       "      <td>1.3.6.1.4.1.9590.100.1.2.248386742010678582309...</td>\n",
       "      <td>1</td>\n",
       "      <td>0</td>\n",
       "      <td>ISO_IR 100</td>\n",
       "      <td>20160720.0</td>\n",
       "      <td>DDSM</td>\n",
       "      <td>1.3.6.1.4.1.9590.100.1.2.161516517311681906612...</td>\n",
       "      <td>193426.0</td>\n",
       "    </tr>\n",
       "    <tr>\n",
       "      <th>2</th>\n",
       "      <td>CBIS-DDSM/dicom/1.3.6.1.4.1.9590.100.1.2.26721...</td>\n",
       "      <td>CBIS-DDSM/jpeg/1.3.6.1.4.1.9590.100.1.2.267213...</td>\n",
       "      <td>NaN</td>\n",
       "      <td>16</td>\n",
       "      <td>16</td>\n",
       "      <td>BREAST</td>\n",
       "      <td>1546</td>\n",
       "      <td>20160503</td>\n",
       "      <td>111956.298</td>\n",
       "      <td>WSD</td>\n",
       "      <td>...</td>\n",
       "      <td>MATLAB</td>\n",
       "      <td>full mammogram images</td>\n",
       "      <td>1.3.6.1.4.1.9590.100.1.2.267213171011171858918...</td>\n",
       "      <td>1</td>\n",
       "      <td>0</td>\n",
       "      <td>ISO_IR 100</td>\n",
       "      <td>20160807.0</td>\n",
       "      <td>DDSM</td>\n",
       "      <td>1.3.6.1.4.1.9590.100.1.2.291043622711253836701...</td>\n",
       "      <td>161814.0</td>\n",
       "    </tr>\n",
       "    <tr>\n",
       "      <th>3</th>\n",
       "      <td>CBIS-DDSM/dicom/1.3.6.1.4.1.9590.100.1.2.38118...</td>\n",
       "      <td>CBIS-DDSM/jpeg/1.3.6.1.4.1.9590.100.1.2.381187...</td>\n",
       "      <td>NaN</td>\n",
       "      <td>16</td>\n",
       "      <td>16</td>\n",
       "      <td>BREAST</td>\n",
       "      <td>97</td>\n",
       "      <td>20160503</td>\n",
       "      <td>115347.770</td>\n",
       "      <td>WSD</td>\n",
       "      <td>...</td>\n",
       "      <td>MATLAB</td>\n",
       "      <td>cropped images</td>\n",
       "      <td>1.3.6.1.4.1.9590.100.1.2.381187369611524586537...</td>\n",
       "      <td>1</td>\n",
       "      <td>32298</td>\n",
       "      <td>ISO_IR 100</td>\n",
       "      <td>20170829.0</td>\n",
       "      <td>DDSM</td>\n",
       "      <td>1.3.6.1.4.1.9590.100.1.2.335006093711888937440...</td>\n",
       "      <td>180109.0</td>\n",
       "    </tr>\n",
       "    <tr>\n",
       "      <th>4</th>\n",
       "      <td>CBIS-DDSM/dicom/1.3.6.1.4.1.9590.100.1.2.38118...</td>\n",
       "      <td>CBIS-DDSM/jpeg/1.3.6.1.4.1.9590.100.1.2.381187...</td>\n",
       "      <td>NaN</td>\n",
       "      <td>8</td>\n",
       "      <td>8</td>\n",
       "      <td>Left Breast</td>\n",
       "      <td>3104</td>\n",
       "      <td>20160503</td>\n",
       "      <td>115347.770</td>\n",
       "      <td>WSD</td>\n",
       "      <td>...</td>\n",
       "      <td>MATLAB</td>\n",
       "      <td>NaN</td>\n",
       "      <td>1.3.6.1.4.1.9590.100.1.2.381187369611524586537...</td>\n",
       "      <td>1</td>\n",
       "      <td>0</td>\n",
       "      <td>ISO_IR 100</td>\n",
       "      <td>NaN</td>\n",
       "      <td>DDSM</td>\n",
       "      <td>1.3.6.1.4.1.9590.100.1.2.335006093711888937440...</td>\n",
       "      <td>NaN</td>\n",
       "    </tr>\n",
       "  </tbody>\n",
       "</table>\n",
       "<p>5 rows × 38 columns</p>\n",
       "</div>"
      ],
      "text/plain": [
       "                                           file_path  \\\n",
       "0  CBIS-DDSM/dicom/1.3.6.1.4.1.9590.100.1.2.12930...   \n",
       "1  CBIS-DDSM/dicom/1.3.6.1.4.1.9590.100.1.2.24838...   \n",
       "2  CBIS-DDSM/dicom/1.3.6.1.4.1.9590.100.1.2.26721...   \n",
       "3  CBIS-DDSM/dicom/1.3.6.1.4.1.9590.100.1.2.38118...   \n",
       "4  CBIS-DDSM/dicom/1.3.6.1.4.1.9590.100.1.2.38118...   \n",
       "\n",
       "                                          image_path  AccessionNumber  \\\n",
       "0  CBIS-DDSM/jpeg/1.3.6.1.4.1.9590.100.1.2.129308...              NaN   \n",
       "1  CBIS-DDSM/jpeg/1.3.6.1.4.1.9590.100.1.2.248386...              NaN   \n",
       "2  CBIS-DDSM/jpeg/1.3.6.1.4.1.9590.100.1.2.267213...              NaN   \n",
       "3  CBIS-DDSM/jpeg/1.3.6.1.4.1.9590.100.1.2.381187...              NaN   \n",
       "4  CBIS-DDSM/jpeg/1.3.6.1.4.1.9590.100.1.2.381187...              NaN   \n",
       "\n",
       "   BitsAllocated  BitsStored BodyPartExamined  Columns  ContentDate  \\\n",
       "0             16          16           BREAST      351     20160426   \n",
       "1             16          16           BREAST     3526     20160426   \n",
       "2             16          16           BREAST     1546     20160503   \n",
       "3             16          16           BREAST       97     20160503   \n",
       "4              8           8      Left Breast     3104     20160503   \n",
       "\n",
       "   ContentTime ConversionType  ...  \\\n",
       "0   131732.685            WSD  ...   \n",
       "1   143829.101            WSD  ...   \n",
       "2   111956.298            WSD  ...   \n",
       "3   115347.770            WSD  ...   \n",
       "4   115347.770            WSD  ...   \n",
       "\n",
       "   SecondaryCaptureDeviceManufacturerModelName      SeriesDescription  \\\n",
       "0                                       MATLAB         cropped images   \n",
       "1                                       MATLAB  full mammogram images   \n",
       "2                                       MATLAB  full mammogram images   \n",
       "3                                       MATLAB         cropped images   \n",
       "4                                       MATLAB                    NaN   \n",
       "\n",
       "                                   SeriesInstanceUID SeriesNumber  \\\n",
       "0  1.3.6.1.4.1.9590.100.1.2.129308726812851964007...            1   \n",
       "1  1.3.6.1.4.1.9590.100.1.2.248386742010678582309...            1   \n",
       "2  1.3.6.1.4.1.9590.100.1.2.267213171011171858918...            1   \n",
       "3  1.3.6.1.4.1.9590.100.1.2.381187369611524586537...            1   \n",
       "4  1.3.6.1.4.1.9590.100.1.2.381187369611524586537...            1   \n",
       "\n",
       "  SmallestImagePixelValue  SpecificCharacterSet   StudyDate StudyID  \\\n",
       "0                   23078            ISO_IR 100  20160720.0    DDSM   \n",
       "1                       0            ISO_IR 100  20160720.0    DDSM   \n",
       "2                       0            ISO_IR 100  20160807.0    DDSM   \n",
       "3                   32298            ISO_IR 100  20170829.0    DDSM   \n",
       "4                       0            ISO_IR 100         NaN    DDSM   \n",
       "\n",
       "                                    StudyInstanceUID  StudyTime  \n",
       "0  1.3.6.1.4.1.9590.100.1.2.271867287611061855725...   214951.0  \n",
       "1  1.3.6.1.4.1.9590.100.1.2.161516517311681906612...   193426.0  \n",
       "2  1.3.6.1.4.1.9590.100.1.2.291043622711253836701...   161814.0  \n",
       "3  1.3.6.1.4.1.9590.100.1.2.335006093711888937440...   180109.0  \n",
       "4  1.3.6.1.4.1.9590.100.1.2.335006093711888937440...        NaN  \n",
       "\n",
       "[5 rows x 38 columns]"
      ]
     },
     "execution_count": 6,
     "metadata": {},
     "output_type": "execute_result"
    }
   ],
   "source": [
    "df = pd.read_csv(dataset_dir)\n",
    "df.head()"
   ]
  },
  {
   "cell_type": "code",
   "execution_count": 45,
   "id": "7e452f23",
   "metadata": {},
   "outputs": [
    {
     "data": {
      "text/plain": [
       "Index(['file_path', 'image_path', 'AccessionNumber', 'BitsAllocated',\n",
       "       'BitsStored', 'BodyPartExamined', 'Columns', 'ContentDate',\n",
       "       'ContentTime', 'ConversionType', 'HighBit', 'InstanceNumber',\n",
       "       'LargestImagePixelValue', 'Laterality', 'Modality', 'PatientBirthDate',\n",
       "       'PatientID', 'PatientName', 'PatientOrientation', 'PatientSex',\n",
       "       'PhotometricInterpretation', 'PixelRepresentation',\n",
       "       'ReferringPhysicianName', 'Rows', 'SOPClassUID', 'SOPInstanceUID',\n",
       "       'SamplesPerPixel', 'SecondaryCaptureDeviceManufacturer',\n",
       "       'SecondaryCaptureDeviceManufacturerModelName', 'SeriesDescription',\n",
       "       'SeriesInstanceUID', 'SeriesNumber', 'SmallestImagePixelValue',\n",
       "       'SpecificCharacterSet', 'StudyDate', 'StudyID', 'StudyInstanceUID',\n",
       "       'StudyTime'],\n",
       "      dtype='object')"
      ]
     },
     "execution_count": 45,
     "metadata": {},
     "output_type": "execute_result"
    }
   ],
   "source": [
    "#Display Columns of Metadata dataframe\n",
    "df.columns"
   ]
  },
  {
   "cell_type": "code",
   "execution_count": 23,
   "id": "1e2ae5e5",
   "metadata": {},
   "outputs": [
    {
     "data": {
      "text/plain": [
       "0"
      ]
     },
     "execution_count": 23,
     "metadata": {},
     "output_type": "execute_result"
    }
   ],
   "source": [
    "#Check if any file paths are null\n",
    "df['file_path'].isna().sum()"
   ]
  },
  {
   "cell_type": "code",
   "execution_count": 24,
   "id": "3e893907",
   "metadata": {},
   "outputs": [
    {
     "data": {
      "text/plain": [
       "0"
      ]
     },
     "execution_count": 24,
     "metadata": {},
     "output_type": "execute_result"
    }
   ],
   "source": [
    "#Check if any image paths are null\n",
    "df['image_path'].isna().sum()"
   ]
  },
  {
   "cell_type": "code",
   "execution_count": 36,
   "id": "34d77063",
   "metadata": {},
   "outputs": [
    {
     "data": {
      "text/plain": [
       "<BarContainer object of 3 artists>"
      ]
     },
     "execution_count": 36,
     "metadata": {},
     "output_type": "execute_result"
    },
    {
     "data": {
      "image/png": "[encoded data removed]",
      "text/plain": [
       "<Figure size 432x288 with 1 Axes>"
      ]
     },
     "metadata": {
      "needs_background": "light"
     },
     "output_type": "display_data"
    }
   ],
   "source": [
    "#Bar plot of body part examined and their counts\n",
    "parts = df['BodyPartExamined'].value_counts()\n",
    "parts = dict(parts)\n",
    "plt.bar(list(parts.keys()), list(parts.values()), color=['salmon', 'seagreen', 'steelblue'])"
   ]
  },
  {
   "cell_type": "code",
   "execution_count": 13,
   "id": "87ffcdca",
   "metadata": {},
   "outputs": [],
   "source": [
    "image_types = df['SeriesDescription'].value_counts()"
   ]
  },
  {
   "cell_type": "code",
   "execution_count": 17,
   "id": "8533ed1e",
   "metadata": {},
   "outputs": [
    {
     "data": {
      "text/plain": [
       "{'cropped images': 3567,\n",
       " 'ROI mask images': 3247,\n",
       " 'full mammogram images': 2857}"
      ]
     },
     "execution_count": 17,
     "metadata": {},
     "output_type": "execute_result"
    }
   ],
   "source": [
    "image_types = dict(image_types)\n",
    "image_types"
   ]
  },
  {
   "cell_type": "code",
   "execution_count": 28,
   "id": "0d51a96d",
   "metadata": {
    "scrolled": true
   },
   "outputs": [
    {
     "data": {
      "text/plain": [
       "<BarContainer object of 3 artists>"
      ]
     },
     "execution_count": 28,
     "metadata": {},
     "output_type": "execute_result"
    },
    {
     "data": {
      "image/png": "[encoded data removed]",
      "text/plain": [
       "<Figure size 432x288 with 1 Axes>"
      ]
     },
     "metadata": {
      "needs_background": "light"
     },
     "output_type": "display_data"
    }
   ],
   "source": [
    "#Bar plot of image types\n",
    "plt.bar(list(image_types.keys()), list(image_types.values()), color=['salmon', 'seagreen', 'steelblue'])"
   ]
  },
  {
   "cell_type": "code",
   "execution_count": 50,
   "id": "07493d40",
   "metadata": {
    "scrolled": true
   },
   "outputs": [
    {
     "data": {
      "text/html": [
       "<div>\n",
       "<style scoped>\n",
       "    .dataframe tbody tr th:only-of-type {\n",
       "        vertical-align: middle;\n",
       "    }\n",
       "\n",
       "    .dataframe tbody tr th {\n",
       "        vertical-align: top;\n",
       "    }\n",
       "\n",
       "    .dataframe thead th {\n",
       "        text-align: right;\n",
       "    }\n",
       "</style>\n",
       "<table border=\"1\" class=\"dataframe\">\n",
       "  <thead>\n",
       "    <tr style=\"text-align: right;\">\n",
       "      <th></th>\n",
       "      <th>patient_id</th>\n",
       "      <th>breast_density</th>\n",
       "      <th>left or right breast</th>\n",
       "      <th>image view</th>\n",
       "      <th>abnormality id</th>\n",
       "      <th>abnormality type</th>\n",
       "      <th>mass shape</th>\n",
       "      <th>mass margins</th>\n",
       "      <th>assessment</th>\n",
       "      <th>pathology</th>\n",
       "      <th>subtlety</th>\n",
       "      <th>image file path</th>\n",
       "      <th>cropped image file path</th>\n",
       "      <th>ROI mask file path</th>\n",
       "    </tr>\n",
       "  </thead>\n",
       "  <tbody>\n",
       "    <tr>\n",
       "      <th>0</th>\n",
       "      <td>P_00001</td>\n",
       "      <td>3</td>\n",
       "      <td>LEFT</td>\n",
       "      <td>CC</td>\n",
       "      <td>1</td>\n",
       "      <td>mass</td>\n",
       "      <td>IRREGULAR-ARCHITECTURAL_DISTORTION</td>\n",
       "      <td>SPICULATED</td>\n",
       "      <td>4</td>\n",
       "      <td>MALIGNANT</td>\n",
       "      <td>4</td>\n",
       "      <td>Mass-Training_P_00001_LEFT_CC/1.3.6.1.4.1.9590...</td>\n",
       "      <td>Mass-Training_P_00001_LEFT_CC_1/1.3.6.1.4.1.95...</td>\n",
       "      <td>Mass-Training_P_00001_LEFT_CC_1/1.3.6.1.4.1.95...</td>\n",
       "    </tr>\n",
       "    <tr>\n",
       "      <th>1</th>\n",
       "      <td>P_00001</td>\n",
       "      <td>3</td>\n",
       "      <td>LEFT</td>\n",
       "      <td>MLO</td>\n",
       "      <td>1</td>\n",
       "      <td>mass</td>\n",
       "      <td>IRREGULAR-ARCHITECTURAL_DISTORTION</td>\n",
       "      <td>SPICULATED</td>\n",
       "      <td>4</td>\n",
       "      <td>MALIGNANT</td>\n",
       "      <td>4</td>\n",
       "      <td>Mass-Training_P_00001_LEFT_MLO/1.3.6.1.4.1.959...</td>\n",
       "      <td>Mass-Training_P_00001_LEFT_MLO_1/1.3.6.1.4.1.9...</td>\n",
       "      <td>Mass-Training_P_00001_LEFT_MLO_1/1.3.6.1.4.1.9...</td>\n",
       "    </tr>\n",
       "    <tr>\n",
       "      <th>2</th>\n",
       "      <td>P_00004</td>\n",
       "      <td>3</td>\n",
       "      <td>LEFT</td>\n",
       "      <td>CC</td>\n",
       "      <td>1</td>\n",
       "      <td>mass</td>\n",
       "      <td>ARCHITECTURAL_DISTORTION</td>\n",
       "      <td>ILL_DEFINED</td>\n",
       "      <td>4</td>\n",
       "      <td>BENIGN</td>\n",
       "      <td>3</td>\n",
       "      <td>Mass-Training_P_00004_LEFT_CC/1.3.6.1.4.1.9590...</td>\n",
       "      <td>Mass-Training_P_00004_LEFT_CC_1/1.3.6.1.4.1.95...</td>\n",
       "      <td>Mass-Training_P_00004_LEFT_CC_1/1.3.6.1.4.1.95...</td>\n",
       "    </tr>\n",
       "    <tr>\n",
       "      <th>3</th>\n",
       "      <td>P_00004</td>\n",
       "      <td>3</td>\n",
       "      <td>LEFT</td>\n",
       "      <td>MLO</td>\n",
       "      <td>1</td>\n",
       "      <td>mass</td>\n",
       "      <td>ARCHITECTURAL_DISTORTION</td>\n",
       "      <td>ILL_DEFINED</td>\n",
       "      <td>4</td>\n",
       "      <td>BENIGN</td>\n",
       "      <td>3</td>\n",
       "      <td>Mass-Training_P_00004_LEFT_MLO/1.3.6.1.4.1.959...</td>\n",
       "      <td>Mass-Training_P_00004_LEFT_MLO_1/1.3.6.1.4.1.9...</td>\n",
       "      <td>Mass-Training_P_00004_LEFT_MLO_1/1.3.6.1.4.1.9...</td>\n",
       "    </tr>\n",
       "    <tr>\n",
       "      <th>4</th>\n",
       "      <td>P_00004</td>\n",
       "      <td>3</td>\n",
       "      <td>RIGHT</td>\n",
       "      <td>MLO</td>\n",
       "      <td>1</td>\n",
       "      <td>mass</td>\n",
       "      <td>OVAL</td>\n",
       "      <td>CIRCUMSCRIBED</td>\n",
       "      <td>4</td>\n",
       "      <td>BENIGN</td>\n",
       "      <td>5</td>\n",
       "      <td>Mass-Training_P_00004_RIGHT_MLO/1.3.6.1.4.1.95...</td>\n",
       "      <td>Mass-Training_P_00004_RIGHT_MLO_1/1.3.6.1.4.1....</td>\n",
       "      <td>Mass-Training_P_00004_RIGHT_MLO_1/1.3.6.1.4.1....</td>\n",
       "    </tr>\n",
       "    <tr>\n",
       "      <th>...</th>\n",
       "      <td>...</td>\n",
       "      <td>...</td>\n",
       "      <td>...</td>\n",
       "      <td>...</td>\n",
       "      <td>...</td>\n",
       "      <td>...</td>\n",
       "      <td>...</td>\n",
       "      <td>...</td>\n",
       "      <td>...</td>\n",
       "      <td>...</td>\n",
       "      <td>...</td>\n",
       "      <td>...</td>\n",
       "      <td>...</td>\n",
       "      <td>...</td>\n",
       "    </tr>\n",
       "    <tr>\n",
       "      <th>1313</th>\n",
       "      <td>P_02033</td>\n",
       "      <td>2</td>\n",
       "      <td>RIGHT</td>\n",
       "      <td>MLO</td>\n",
       "      <td>1</td>\n",
       "      <td>mass</td>\n",
       "      <td>IRREGULAR</td>\n",
       "      <td>ILL_DEFINED</td>\n",
       "      <td>3</td>\n",
       "      <td>MALIGNANT</td>\n",
       "      <td>4</td>\n",
       "      <td>Mass-Training_P_02033_RIGHT_MLO/1.3.6.1.4.1.95...</td>\n",
       "      <td>Mass-Training_P_02033_RIGHT_MLO_1/1.3.6.1.4.1....</td>\n",
       "      <td>Mass-Training_P_02033_RIGHT_MLO_1/1.3.6.1.4.1....</td>\n",
       "    </tr>\n",
       "    <tr>\n",
       "      <th>1314</th>\n",
       "      <td>P_02079</td>\n",
       "      <td>2</td>\n",
       "      <td>RIGHT</td>\n",
       "      <td>CC</td>\n",
       "      <td>1</td>\n",
       "      <td>mass</td>\n",
       "      <td>ROUND</td>\n",
       "      <td>SPICULATED</td>\n",
       "      <td>3</td>\n",
       "      <td>MALIGNANT</td>\n",
       "      <td>5</td>\n",
       "      <td>Mass-Training_P_02079_RIGHT_CC/1.3.6.1.4.1.959...</td>\n",
       "      <td>Mass-Training_P_02079_RIGHT_CC_1/1.3.6.1.4.1.9...</td>\n",
       "      <td>Mass-Training_P_02079_RIGHT_CC_1/1.3.6.1.4.1.9...</td>\n",
       "    </tr>\n",
       "    <tr>\n",
       "      <th>1315</th>\n",
       "      <td>P_02079</td>\n",
       "      <td>2</td>\n",
       "      <td>RIGHT</td>\n",
       "      <td>MLO</td>\n",
       "      <td>1</td>\n",
       "      <td>mass</td>\n",
       "      <td>ROUND</td>\n",
       "      <td>SPICULATED</td>\n",
       "      <td>3</td>\n",
       "      <td>MALIGNANT</td>\n",
       "      <td>5</td>\n",
       "      <td>Mass-Training_P_02079_RIGHT_MLO/1.3.6.1.4.1.95...</td>\n",
       "      <td>Mass-Training_P_02079_RIGHT_MLO_1/1.3.6.1.4.1....</td>\n",
       "      <td>Mass-Training_P_02079_RIGHT_MLO_1/1.3.6.1.4.1....</td>\n",
       "    </tr>\n",
       "    <tr>\n",
       "      <th>1316</th>\n",
       "      <td>P_02092</td>\n",
       "      <td>2</td>\n",
       "      <td>LEFT</td>\n",
       "      <td>CC</td>\n",
       "      <td>1</td>\n",
       "      <td>mass</td>\n",
       "      <td>IRREGULAR</td>\n",
       "      <td>SPICULATED</td>\n",
       "      <td>3</td>\n",
       "      <td>MALIGNANT</td>\n",
       "      <td>2</td>\n",
       "      <td>Mass-Training_P_02092_LEFT_CC/1.3.6.1.4.1.9590...</td>\n",
       "      <td>Mass-Training_P_02092_LEFT_CC_1/1.3.6.1.4.1.95...</td>\n",
       "      <td>Mass-Training_P_02092_LEFT_CC_1/1.3.6.1.4.1.95...</td>\n",
       "    </tr>\n",
       "    <tr>\n",
       "      <th>1317</th>\n",
       "      <td>P_02092</td>\n",
       "      <td>2</td>\n",
       "      <td>LEFT</td>\n",
       "      <td>MLO</td>\n",
       "      <td>1</td>\n",
       "      <td>mass</td>\n",
       "      <td>IRREGULAR</td>\n",
       "      <td>SPICULATED</td>\n",
       "      <td>3</td>\n",
       "      <td>MALIGNANT</td>\n",
       "      <td>2</td>\n",
       "      <td>Mass-Training_P_02092_LEFT_MLO/1.3.6.1.4.1.959...</td>\n",
       "      <td>Mass-Training_P_02092_LEFT_MLO_1/1.3.6.1.4.1.9...</td>\n",
       "      <td>Mass-Training_P_02092_LEFT_MLO_1/1.3.6.1.4.1.9...</td>\n",
       "    </tr>\n",
       "  </tbody>\n",
       "</table>\n",
       "<p>1318 rows × 14 columns</p>\n",
       "</div>"
      ],
      "text/plain": [
       "     patient_id  breast_density left or right breast image view  \\\n",
       "0       P_00001               3                 LEFT         CC   \n",
       "1       P_00001               3                 LEFT        MLO   \n",
       "2       P_00004               3                 LEFT         CC   \n",
       "3       P_00004               3                 LEFT        MLO   \n",
       "4       P_00004               3                RIGHT        MLO   \n",
       "...         ...             ...                  ...        ...   \n",
       "1313    P_02033               2                RIGHT        MLO   \n",
       "1314    P_02079               2                RIGHT         CC   \n",
       "1315    P_02079               2                RIGHT        MLO   \n",
       "1316    P_02092               2                 LEFT         CC   \n",
       "1317    P_02092               2                 LEFT        MLO   \n",
       "\n",
       "      abnormality id abnormality type                          mass shape  \\\n",
       "0                  1             mass  IRREGULAR-ARCHITECTURAL_DISTORTION   \n",
       "1                  1             mass  IRREGULAR-ARCHITECTURAL_DISTORTION   \n",
       "2                  1             mass            ARCHITECTURAL_DISTORTION   \n",
       "3                  1             mass            ARCHITECTURAL_DISTORTION   \n",
       "4                  1             mass                                OVAL   \n",
       "...              ...              ...                                 ...   \n",
       "1313               1             mass                           IRREGULAR   \n",
       "1314               1             mass                               ROUND   \n",
       "1315               1             mass                               ROUND   \n",
       "1316               1             mass                           IRREGULAR   \n",
       "1317               1             mass                           IRREGULAR   \n",
       "\n",
       "       mass margins  assessment  pathology  subtlety  \\\n",
       "0        SPICULATED           4  MALIGNANT         4   \n",
       "1        SPICULATED           4  MALIGNANT         4   \n",
       "2       ILL_DEFINED           4     BENIGN         3   \n",
       "3       ILL_DEFINED           4     BENIGN         3   \n",
       "4     CIRCUMSCRIBED           4     BENIGN         5   \n",
       "...             ...         ...        ...       ...   \n",
       "1313    ILL_DEFINED           3  MALIGNANT         4   \n",
       "1314     SPICULATED           3  MALIGNANT         5   \n",
       "1315     SPICULATED           3  MALIGNANT         5   \n",
       "1316     SPICULATED           3  MALIGNANT         2   \n",
       "1317     SPICULATED           3  MALIGNANT         2   \n",
       "\n",
       "                                        image file path  \\\n",
       "0     Mass-Training_P_00001_LEFT_CC/1.3.6.1.4.1.9590...   \n",
       "1     Mass-Training_P_00001_LEFT_MLO/1.3.6.1.4.1.959...   \n",
       "2     Mass-Training_P_00004_LEFT_CC/1.3.6.1.4.1.9590...   \n",
       "3     Mass-Training_P_00004_LEFT_MLO/1.3.6.1.4.1.959...   \n",
       "4     Mass-Training_P_00004_RIGHT_MLO/1.3.6.1.4.1.95...   \n",
       "...                                                 ...   \n",
       "1313  Mass-Training_P_02033_RIGHT_MLO/1.3.6.1.4.1.95...   \n",
       "1314  Mass-Training_P_02079_RIGHT_CC/1.3.6.1.4.1.959...   \n",
       "1315  Mass-Training_P_02079_RIGHT_MLO/1.3.6.1.4.1.95...   \n",
       "1316  Mass-Training_P_02092_LEFT_CC/1.3.6.1.4.1.9590...   \n",
       "1317  Mass-Training_P_02092_LEFT_MLO/1.3.6.1.4.1.959...   \n",
       "\n",
       "                                cropped image file path  \\\n",
       "0     Mass-Training_P_00001_LEFT_CC_1/1.3.6.1.4.1.95...   \n",
       "1     Mass-Training_P_00001_LEFT_MLO_1/1.3.6.1.4.1.9...   \n",
       "2     Mass-Training_P_00004_LEFT_CC_1/1.3.6.1.4.1.95...   \n",
       "3     Mass-Training_P_00004_LEFT_MLO_1/1.3.6.1.4.1.9...   \n",
       "4     Mass-Training_P_00004_RIGHT_MLO_1/1.3.6.1.4.1....   \n",
       "...                                                 ...   \n",
       "1313  Mass-Training_P_02033_RIGHT_MLO_1/1.3.6.1.4.1....   \n",
       "1314  Mass-Training_P_02079_RIGHT_CC_1/1.3.6.1.4.1.9...   \n",
       "1315  Mass-Training_P_02079_RIGHT_MLO_1/1.3.6.1.4.1....   \n",
       "1316  Mass-Training_P_02092_LEFT_CC_1/1.3.6.1.4.1.95...   \n",
       "1317  Mass-Training_P_02092_LEFT_MLO_1/1.3.6.1.4.1.9...   \n",
       "\n",
       "                                     ROI mask file path  \n",
       "0     Mass-Training_P_00001_LEFT_CC_1/1.3.6.1.4.1.95...  \n",
       "1     Mass-Training_P_00001_LEFT_MLO_1/1.3.6.1.4.1.9...  \n",
       "2     Mass-Training_P_00004_LEFT_CC_1/1.3.6.1.4.1.95...  \n",
       "3     Mass-Training_P_00004_LEFT_MLO_1/1.3.6.1.4.1.9...  \n",
       "4     Mass-Training_P_00004_RIGHT_MLO_1/1.3.6.1.4.1....  \n",
       "...                                                 ...  \n",
       "1313  Mass-Training_P_02033_RIGHT_MLO_1/1.3.6.1.4.1....  \n",
       "1314  Mass-Training_P_02079_RIGHT_CC_1/1.3.6.1.4.1.9...  \n",
       "1315  Mass-Training_P_02079_RIGHT_MLO_1/1.3.6.1.4.1....  \n",
       "1316  Mass-Training_P_02092_LEFT_CC_1/1.3.6.1.4.1.95...  \n",
       "1317  Mass-Training_P_02092_LEFT_MLO_1/1.3.6.1.4.1.9...  \n",
       "\n",
       "[1318 rows x 14 columns]"
      ]
     },
     "execution_count": 50,
     "metadata": {},
     "output_type": "execute_result"
    }
   ],
   "source": [
    "#Looking at training data metadata\n",
    "path = '/Users/emilypark/ECE228/archive/csv/mass_case_description_train_set.csv'\n",
    "train_df = pd.read_csv(path)\n",
    "train_df"
   ]
  },
  {
   "cell_type": "code",
   "execution_count": 75,
   "id": "430eb332",
   "metadata": {},
   "outputs": [
    {
     "data": {
      "text/plain": [
       "4    533\n",
       "5    299\n",
       "3    279\n",
       "0    129\n",
       "2     77\n",
       "1      1\n",
       "Name: assessment, dtype: int64"
      ]
     },
     "execution_count": 75,
     "metadata": {},
     "output_type": "execute_result"
    }
   ],
   "source": [
    "train_df['assessment'].value_counts()"
   ]
  },
  {
   "cell_type": "code",
   "execution_count": 60,
   "id": "d7715181",
   "metadata": {},
   "outputs": [
    {
     "data": {
      "text/plain": [
       "Index(['patient_id', 'breast_density', 'left or right breast', 'image view',\n",
       "       'abnormality id', 'abnormality type', 'mass shape', 'mass margins',\n",
       "       'assessment', 'pathology', 'subtlety', 'image file path',\n",
       "       'cropped image file path', 'ROI mask file path'],\n",
       "      dtype='object')"
      ]
     },
     "execution_count": 60,
     "metadata": {},
     "output_type": "execute_result"
    }
   ],
   "source": [
    "train_df.columns"
   ]
  },
  {
   "cell_type": "code",
   "execution_count": 74,
   "id": "e7ee910f",
   "metadata": {},
   "outputs": [
    {
     "data": {
      "text/plain": [
       "patient_id                 object\n",
       "breast_density              int64\n",
       "left or right breast       object\n",
       "image view                 object\n",
       "abnormality id              int64\n",
       "abnormality type           object\n",
       "mass shape                 object\n",
       "mass margins               object\n",
       "assessment                  int64\n",
       "pathology                  object\n",
       "subtlety                    int64\n",
       "image file path            object\n",
       "cropped image file path    object\n",
       "ROI mask file path         object\n",
       "dtype: object"
      ]
     },
     "execution_count": 74,
     "metadata": {},
     "output_type": "execute_result"
    }
   ],
   "source": [
    "train_df.dtypes"
   ]
  },
  {
   "cell_type": "code",
   "execution_count": 53,
   "id": "62c55487",
   "metadata": {},
   "outputs": [
    {
     "data": {
      "text/plain": [
       "MALIGNANT                  637\n",
       "BENIGN                     577\n",
       "BENIGN_WITHOUT_CALLBACK    104\n",
       "Name: pathology, dtype: int64"
      ]
     },
     "execution_count": 53,
     "metadata": {},
     "output_type": "execute_result"
    }
   ],
   "source": [
    "train_df['pathology'].value_counts()"
   ]
  },
  {
   "cell_type": "code",
   "execution_count": 62,
   "id": "1ded2af1",
   "metadata": {},
   "outputs": [
    {
     "data": {
      "text/plain": [
       "Index(['patient_id', 'breast_density', 'left or right breast', 'image view',\n",
       "       'abnormality id', 'abnormality type', 'mass shape', 'mass margins',\n",
       "       'assessment', 'pathology', 'subtlety', 'image file path',\n",
       "       'cropped image file path', 'ROI mask file path'],\n",
       "      dtype='object')"
      ]
     },
     "execution_count": 62,
     "metadata": {},
     "output_type": "execute_result"
    }
   ],
   "source": [
    "train_df2.columns"
   ]
  },
  {
   "cell_type": "code",
   "execution_count": 59,
   "id": "128b6861",
   "metadata": {},
   "outputs": [
    {
     "data": {
      "text/plain": [
       "<AxesSubplot:>"
      ]
     },
     "execution_count": 59,
     "metadata": {},
     "output_type": "execute_result"
    },
    {
     "data": {
      "image/png": "[encoded data removed]",
      "text/plain": [
       "<Figure size 648x648 with 2 Axes>"
      ]
     },
     "metadata": {
      "needs_background": "light"
     },
     "output_type": "display_data"
    }
   ],
   "source": [
    "#Heatmap of correlation of training data metadata values\n",
    "plt.figure(figsize=(9,9))\n",
    "sns.heatmap(train_df.corr(), annot=True, linewidths=0.1)"
   ]
  },
  {
   "cell_type": "code",
   "execution_count": 54,
   "id": "e3735f5e",
   "metadata": {
    "scrolled": true
   },
   "outputs": [
    {
     "data": {
      "text/html": [
       "<div>\n",
       "<style scoped>\n",
       "    .dataframe tbody tr th:only-of-type {\n",
       "        vertical-align: middle;\n",
       "    }\n",
       "\n",
       "    .dataframe tbody tr th {\n",
       "        vertical-align: top;\n",
       "    }\n",
       "\n",
       "    .dataframe thead th {\n",
       "        text-align: right;\n",
       "    }\n",
       "</style>\n",
       "<table border=\"1\" class=\"dataframe\">\n",
       "  <thead>\n",
       "    <tr style=\"text-align: right;\">\n",
       "      <th></th>\n",
       "      <th>patient_id</th>\n",
       "      <th>breast_density</th>\n",
       "      <th>left or right breast</th>\n",
       "      <th>image view</th>\n",
       "      <th>abnormality id</th>\n",
       "      <th>abnormality type</th>\n",
       "      <th>mass shape</th>\n",
       "      <th>mass margins</th>\n",
       "      <th>assessment</th>\n",
       "      <th>pathology</th>\n",
       "      <th>subtlety</th>\n",
       "      <th>image file path</th>\n",
       "      <th>cropped image file path</th>\n",
       "      <th>ROI mask file path</th>\n",
       "    </tr>\n",
       "  </thead>\n",
       "  <tbody>\n",
       "    <tr>\n",
       "      <th>0</th>\n",
       "      <td>P_00016</td>\n",
       "      <td>4</td>\n",
       "      <td>LEFT</td>\n",
       "      <td>CC</td>\n",
       "      <td>1</td>\n",
       "      <td>mass</td>\n",
       "      <td>IRREGULAR</td>\n",
       "      <td>SPICULATED</td>\n",
       "      <td>5</td>\n",
       "      <td>MALIGNANT</td>\n",
       "      <td>5</td>\n",
       "      <td>Mass-Test_P_00016_LEFT_CC/1.3.6.1.4.1.9590.100...</td>\n",
       "      <td>Mass-Test_P_00016_LEFT_CC_1/1.3.6.1.4.1.9590.1...</td>\n",
       "      <td>Mass-Test_P_00016_LEFT_CC_1/1.3.6.1.4.1.9590.1...</td>\n",
       "    </tr>\n",
       "    <tr>\n",
       "      <th>1</th>\n",
       "      <td>P_00016</td>\n",
       "      <td>4</td>\n",
       "      <td>LEFT</td>\n",
       "      <td>MLO</td>\n",
       "      <td>1</td>\n",
       "      <td>mass</td>\n",
       "      <td>IRREGULAR</td>\n",
       "      <td>SPICULATED</td>\n",
       "      <td>5</td>\n",
       "      <td>MALIGNANT</td>\n",
       "      <td>5</td>\n",
       "      <td>Mass-Test_P_00016_LEFT_MLO/1.3.6.1.4.1.9590.10...</td>\n",
       "      <td>Mass-Test_P_00016_LEFT_MLO_1/1.3.6.1.4.1.9590....</td>\n",
       "      <td>Mass-Test_P_00016_LEFT_MLO_1/1.3.6.1.4.1.9590....</td>\n",
       "    </tr>\n",
       "    <tr>\n",
       "      <th>2</th>\n",
       "      <td>P_00017</td>\n",
       "      <td>2</td>\n",
       "      <td>LEFT</td>\n",
       "      <td>CC</td>\n",
       "      <td>1</td>\n",
       "      <td>mass</td>\n",
       "      <td>ROUND</td>\n",
       "      <td>CIRCUMSCRIBED</td>\n",
       "      <td>4</td>\n",
       "      <td>MALIGNANT</td>\n",
       "      <td>4</td>\n",
       "      <td>Mass-Test_P_00017_LEFT_CC/1.3.6.1.4.1.9590.100...</td>\n",
       "      <td>Mass-Test_P_00017_LEFT_CC_1/1.3.6.1.4.1.9590.1...</td>\n",
       "      <td>Mass-Test_P_00017_LEFT_CC_1/1.3.6.1.4.1.9590.1...</td>\n",
       "    </tr>\n",
       "    <tr>\n",
       "      <th>3</th>\n",
       "      <td>P_00017</td>\n",
       "      <td>2</td>\n",
       "      <td>LEFT</td>\n",
       "      <td>MLO</td>\n",
       "      <td>1</td>\n",
       "      <td>mass</td>\n",
       "      <td>ROUND</td>\n",
       "      <td>ILL_DEFINED</td>\n",
       "      <td>4</td>\n",
       "      <td>MALIGNANT</td>\n",
       "      <td>4</td>\n",
       "      <td>Mass-Test_P_00017_LEFT_MLO/1.3.6.1.4.1.9590.10...</td>\n",
       "      <td>Mass-Test_P_00017_LEFT_MLO_1/1.3.6.1.4.1.9590....</td>\n",
       "      <td>Mass-Test_P_00017_LEFT_MLO_1/1.3.6.1.4.1.9590....</td>\n",
       "    </tr>\n",
       "    <tr>\n",
       "      <th>4</th>\n",
       "      <td>P_00032</td>\n",
       "      <td>3</td>\n",
       "      <td>RIGHT</td>\n",
       "      <td>CC</td>\n",
       "      <td>1</td>\n",
       "      <td>mass</td>\n",
       "      <td>ROUND</td>\n",
       "      <td>OBSCURED</td>\n",
       "      <td>0</td>\n",
       "      <td>BENIGN</td>\n",
       "      <td>2</td>\n",
       "      <td>Mass-Test_P_00032_RIGHT_CC/1.3.6.1.4.1.9590.10...</td>\n",
       "      <td>Mass-Test_P_00032_RIGHT_CC_1/1.3.6.1.4.1.9590....</td>\n",
       "      <td>Mass-Test_P_00032_RIGHT_CC_1/1.3.6.1.4.1.9590....</td>\n",
       "    </tr>\n",
       "    <tr>\n",
       "      <th>...</th>\n",
       "      <td>...</td>\n",
       "      <td>...</td>\n",
       "      <td>...</td>\n",
       "      <td>...</td>\n",
       "      <td>...</td>\n",
       "      <td>...</td>\n",
       "      <td>...</td>\n",
       "      <td>...</td>\n",
       "      <td>...</td>\n",
       "      <td>...</td>\n",
       "      <td>...</td>\n",
       "      <td>...</td>\n",
       "      <td>...</td>\n",
       "      <td>...</td>\n",
       "    </tr>\n",
       "    <tr>\n",
       "      <th>373</th>\n",
       "      <td>P_01825</td>\n",
       "      <td>2</td>\n",
       "      <td>RIGHT</td>\n",
       "      <td>MLO</td>\n",
       "      <td>1</td>\n",
       "      <td>mass</td>\n",
       "      <td>LOBULATED</td>\n",
       "      <td>MICROLOBULATED</td>\n",
       "      <td>3</td>\n",
       "      <td>BENIGN_WITHOUT_CALLBACK</td>\n",
       "      <td>3</td>\n",
       "      <td>Mass-Test_P_01825_RIGHT_MLO/1.3.6.1.4.1.9590.1...</td>\n",
       "      <td>Mass-Test_P_01825_RIGHT_MLO_1/1.3.6.1.4.1.9590...</td>\n",
       "      <td>Mass-Test_P_01825_RIGHT_MLO_1/1.3.6.1.4.1.9590...</td>\n",
       "    </tr>\n",
       "    <tr>\n",
       "      <th>374</th>\n",
       "      <td>P_01833</td>\n",
       "      <td>2</td>\n",
       "      <td>RIGHT</td>\n",
       "      <td>MLO</td>\n",
       "      <td>1</td>\n",
       "      <td>mass</td>\n",
       "      <td>IRREGULAR</td>\n",
       "      <td>ILL_DEFINED</td>\n",
       "      <td>5</td>\n",
       "      <td>MALIGNANT</td>\n",
       "      <td>5</td>\n",
       "      <td>Mass-Test_P_01833_RIGHT_MLO/1.3.6.1.4.1.9590.1...</td>\n",
       "      <td>Mass-Test_P_01833_RIGHT_MLO_1/1.3.6.1.4.1.9590...</td>\n",
       "      <td>Mass-Test_P_01833_RIGHT_MLO_1/1.3.6.1.4.1.9590...</td>\n",
       "    </tr>\n",
       "    <tr>\n",
       "      <th>375</th>\n",
       "      <td>P_01865</td>\n",
       "      <td>2</td>\n",
       "      <td>LEFT</td>\n",
       "      <td>MLO</td>\n",
       "      <td>1</td>\n",
       "      <td>mass</td>\n",
       "      <td>IRREGULAR</td>\n",
       "      <td>ILL_DEFINED</td>\n",
       "      <td>4</td>\n",
       "      <td>MALIGNANT</td>\n",
       "      <td>2</td>\n",
       "      <td>Mass-Test_P_01865_LEFT_MLO/1.3.6.1.4.1.9590.10...</td>\n",
       "      <td>Mass-Test_P_01865_LEFT_MLO_1/1.3.6.1.4.1.9590....</td>\n",
       "      <td>Mass-Test_P_01865_LEFT_MLO_1/1.3.6.1.4.1.9590....</td>\n",
       "    </tr>\n",
       "    <tr>\n",
       "      <th>376</th>\n",
       "      <td>P_01912</td>\n",
       "      <td>3</td>\n",
       "      <td>RIGHT</td>\n",
       "      <td>CC</td>\n",
       "      <td>1</td>\n",
       "      <td>mass</td>\n",
       "      <td>IRREGULAR</td>\n",
       "      <td>SPICULATED</td>\n",
       "      <td>5</td>\n",
       "      <td>MALIGNANT</td>\n",
       "      <td>4</td>\n",
       "      <td>Mass-Test_P_01912_RIGHT_CC/1.3.6.1.4.1.9590.10...</td>\n",
       "      <td>Mass-Test_P_01912_RIGHT_CC_1/1.3.6.1.4.1.9590....</td>\n",
       "      <td>Mass-Test_P_01912_RIGHT_CC_1/1.3.6.1.4.1.9590....</td>\n",
       "    </tr>\n",
       "    <tr>\n",
       "      <th>377</th>\n",
       "      <td>P_01912</td>\n",
       "      <td>3</td>\n",
       "      <td>RIGHT</td>\n",
       "      <td>MLO</td>\n",
       "      <td>1</td>\n",
       "      <td>mass</td>\n",
       "      <td>IRREGULAR</td>\n",
       "      <td>SPICULATED</td>\n",
       "      <td>5</td>\n",
       "      <td>MALIGNANT</td>\n",
       "      <td>4</td>\n",
       "      <td>Mass-Test_P_01912_RIGHT_MLO/1.3.6.1.4.1.9590.1...</td>\n",
       "      <td>Mass-Test_P_01912_RIGHT_MLO_1/1.3.6.1.4.1.9590...</td>\n",
       "      <td>Mass-Test_P_01912_RIGHT_MLO_1/1.3.6.1.4.1.9590...</td>\n",
       "    </tr>\n",
       "  </tbody>\n",
       "</table>\n",
       "<p>378 rows × 14 columns</p>\n",
       "</div>"
      ],
      "text/plain": [
       "    patient_id  breast_density left or right breast image view  \\\n",
       "0      P_00016               4                 LEFT         CC   \n",
       "1      P_00016               4                 LEFT        MLO   \n",
       "2      P_00017               2                 LEFT         CC   \n",
       "3      P_00017               2                 LEFT        MLO   \n",
       "4      P_00032               3                RIGHT         CC   \n",
       "..         ...             ...                  ...        ...   \n",
       "373    P_01825               2                RIGHT        MLO   \n",
       "374    P_01833               2                RIGHT        MLO   \n",
       "375    P_01865               2                 LEFT        MLO   \n",
       "376    P_01912               3                RIGHT         CC   \n",
       "377    P_01912               3                RIGHT        MLO   \n",
       "\n",
       "     abnormality id abnormality type mass shape    mass margins  assessment  \\\n",
       "0                 1             mass  IRREGULAR      SPICULATED           5   \n",
       "1                 1             mass  IRREGULAR      SPICULATED           5   \n",
       "2                 1             mass      ROUND   CIRCUMSCRIBED           4   \n",
       "3                 1             mass      ROUND     ILL_DEFINED           4   \n",
       "4                 1             mass      ROUND        OBSCURED           0   \n",
       "..              ...              ...        ...             ...         ...   \n",
       "373               1             mass  LOBULATED  MICROLOBULATED           3   \n",
       "374               1             mass  IRREGULAR     ILL_DEFINED           5   \n",
       "375               1             mass  IRREGULAR     ILL_DEFINED           4   \n",
       "376               1             mass  IRREGULAR      SPICULATED           5   \n",
       "377               1             mass  IRREGULAR      SPICULATED           5   \n",
       "\n",
       "                   pathology  subtlety  \\\n",
       "0                  MALIGNANT         5   \n",
       "1                  MALIGNANT         5   \n",
       "2                  MALIGNANT         4   \n",
       "3                  MALIGNANT         4   \n",
       "4                     BENIGN         2   \n",
       "..                       ...       ...   \n",
       "373  BENIGN_WITHOUT_CALLBACK         3   \n",
       "374                MALIGNANT         5   \n",
       "375                MALIGNANT         2   \n",
       "376                MALIGNANT         4   \n",
       "377                MALIGNANT         4   \n",
       "\n",
       "                                       image file path  \\\n",
       "0    Mass-Test_P_00016_LEFT_CC/1.3.6.1.4.1.9590.100...   \n",
       "1    Mass-Test_P_00016_LEFT_MLO/1.3.6.1.4.1.9590.10...   \n",
       "2    Mass-Test_P_00017_LEFT_CC/1.3.6.1.4.1.9590.100...   \n",
       "3    Mass-Test_P_00017_LEFT_MLO/1.3.6.1.4.1.9590.10...   \n",
       "4    Mass-Test_P_00032_RIGHT_CC/1.3.6.1.4.1.9590.10...   \n",
       "..                                                 ...   \n",
       "373  Mass-Test_P_01825_RIGHT_MLO/1.3.6.1.4.1.9590.1...   \n",
       "374  Mass-Test_P_01833_RIGHT_MLO/1.3.6.1.4.1.9590.1...   \n",
       "375  Mass-Test_P_01865_LEFT_MLO/1.3.6.1.4.1.9590.10...   \n",
       "376  Mass-Test_P_01912_RIGHT_CC/1.3.6.1.4.1.9590.10...   \n",
       "377  Mass-Test_P_01912_RIGHT_MLO/1.3.6.1.4.1.9590.1...   \n",
       "\n",
       "                               cropped image file path  \\\n",
       "0    Mass-Test_P_00016_LEFT_CC_1/1.3.6.1.4.1.9590.1...   \n",
       "1    Mass-Test_P_00016_LEFT_MLO_1/1.3.6.1.4.1.9590....   \n",
       "2    Mass-Test_P_00017_LEFT_CC_1/1.3.6.1.4.1.9590.1...   \n",
       "3    Mass-Test_P_00017_LEFT_MLO_1/1.3.6.1.4.1.9590....   \n",
       "4    Mass-Test_P_00032_RIGHT_CC_1/1.3.6.1.4.1.9590....   \n",
       "..                                                 ...   \n",
       "373  Mass-Test_P_01825_RIGHT_MLO_1/1.3.6.1.4.1.9590...   \n",
       "374  Mass-Test_P_01833_RIGHT_MLO_1/1.3.6.1.4.1.9590...   \n",
       "375  Mass-Test_P_01865_LEFT_MLO_1/1.3.6.1.4.1.9590....   \n",
       "376  Mass-Test_P_01912_RIGHT_CC_1/1.3.6.1.4.1.9590....   \n",
       "377  Mass-Test_P_01912_RIGHT_MLO_1/1.3.6.1.4.1.9590...   \n",
       "\n",
       "                                    ROI mask file path  \n",
       "0    Mass-Test_P_00016_LEFT_CC_1/1.3.6.1.4.1.9590.1...  \n",
       "1    Mass-Test_P_00016_LEFT_MLO_1/1.3.6.1.4.1.9590....  \n",
       "2    Mass-Test_P_00017_LEFT_CC_1/1.3.6.1.4.1.9590.1...  \n",
       "3    Mass-Test_P_00017_LEFT_MLO_1/1.3.6.1.4.1.9590....  \n",
       "4    Mass-Test_P_00032_RIGHT_CC_1/1.3.6.1.4.1.9590....  \n",
       "..                                                 ...  \n",
       "373  Mass-Test_P_01825_RIGHT_MLO_1/1.3.6.1.4.1.9590...  \n",
       "374  Mass-Test_P_01833_RIGHT_MLO_1/1.3.6.1.4.1.9590...  \n",
       "375  Mass-Test_P_01865_LEFT_MLO_1/1.3.6.1.4.1.9590....  \n",
       "376  Mass-Test_P_01912_RIGHT_CC_1/1.3.6.1.4.1.9590....  \n",
       "377  Mass-Test_P_01912_RIGHT_MLO_1/1.3.6.1.4.1.9590...  \n",
       "\n",
       "[378 rows x 14 columns]"
      ]
     },
     "execution_count": 54,
     "metadata": {},
     "output_type": "execute_result"
    }
   ],
   "source": [
    "#Import test data\n",
    "path = '/Users/emilypark/ECE228/archive/csv/mass_case_description_test_set.csv'\n",
    "test_df = pd.read_csv(path)\n",
    "test_df"
   ]
  },
  {
   "cell_type": "code",
   "execution_count": 72,
   "id": "89a75df8",
   "metadata": {},
   "outputs": [
    {
     "data": {
      "text/plain": [
       "RIGHT    192\n",
       "LEFT     186\n",
       "Name: left or right breast, dtype: int64"
      ]
     },
     "execution_count": 72,
     "metadata": {},
     "output_type": "execute_result"
    }
   ],
   "source": [
    "test_df['left or right breast'].value_counts()"
   ]
  },
  {
   "cell_type": "code",
   "execution_count": 69,
   "id": "63525f35",
   "metadata": {},
   "outputs": [
    {
     "data": {
      "text/plain": [
       "IRREGULAR                             113\n",
       "OVAL                                   91\n",
       "LOBULATED                              79\n",
       "ROUND                                  41\n",
       "ARCHITECTURAL_DISTORTION               23\n",
       "LYMPH_NODE                              9\n",
       "IRREGULAR-ARCHITECTURAL_DISTORTION      7\n",
       "FOCAL_ASYMMETRIC_DENSITY                6\n",
       "ASYMMETRIC_BREAST_TISSUE                5\n",
       "OVAL-LOBULATED                          1\n",
       "IRREGULAR-ASYMMETRIC_BREAST_TISSUE      1\n",
       "LOBULATED-IRREGULAR                     1\n",
       "LOBULATED-LYMPH_NODE                    1\n",
       "Name: mass shape, dtype: int64"
      ]
     },
     "execution_count": 69,
     "metadata": {},
     "output_type": "execute_result"
    }
   ],
   "source": [
    "test_df['mass shape'].value_counts()"
   ]
  },
  {
   "cell_type": "code",
   "execution_count": 55,
   "id": "d09dafab",
   "metadata": {},
   "outputs": [
    {
     "data": {
      "text/plain": [
       "BENIGN                     194\n",
       "MALIGNANT                  147\n",
       "BENIGN_WITHOUT_CALLBACK     37\n",
       "Name: pathology, dtype: int64"
      ]
     },
     "execution_count": 55,
     "metadata": {},
     "output_type": "execute_result"
    }
   ],
   "source": [
    "test_df['pathology'].value_counts()"
   ]
  },
  {
   "cell_type": "code",
   "execution_count": 71,
   "id": "8c47ceab",
   "metadata": {},
   "outputs": [
    {
     "data": {
      "text/plain": [
       "array([ True,  True,  True,  True,  True,  True,  True,  True,  True,\n",
       "        True,  True,  True,  True,  True])"
      ]
     },
     "execution_count": 71,
     "metadata": {},
     "output_type": "execute_result"
    }
   ],
   "source": [
    "#Check if have same column names\n",
    "test_df.columns == train_df.columns"
   ]
  },
  {
   "cell_type": "code",
   "execution_count": 32,
   "id": "a5cf1e12",
   "metadata": {},
   "outputs": [],
   "source": [
    "from PIL import Image\n",
    "def show_img(path):\n",
    "    image = Image.open(path)\n",
    "    image.show()"
   ]
  },
  {
   "cell_type": "code",
   "execution_count": 46,
   "id": "e6ff0c07",
   "metadata": {},
   "outputs": [],
   "source": [
    "#Show image from df.image_path.iloc[10]\n",
    "path = '/Users/emilypark/ECE228/archive/jpeg/1.3.6.1.4.1.9590.100.1.2.411833492612373627114350673042828631265/1-003.jpg'\n",
    "show_img(path)"
   ]
  },
  {
   "cell_type": "code",
   "execution_count": 64,
   "id": "21ca0847",
   "metadata": {},
   "outputs": [
    {
     "data": {
      "text/plain": [
       "patient_id                                                           P_00057\n",
       "breast_density                                                             1\n",
       "left or right breast                                                   RIGHT\n",
       "image view                                                               MLO\n",
       "abnormality id                                                             1\n",
       "abnormality type                                                        mass\n",
       "mass shape                                                              OVAL\n",
       "mass margins                                                      SPICULATED\n",
       "assessment                                                                 5\n",
       "pathology                                                          MALIGNANT\n",
       "subtlety                                                                   5\n",
       "image file path            Mass-Training_P_00057_RIGHT_MLO/1.3.6.1.4.1.95...\n",
       "cropped image file path    Mass-Training_P_00057_RIGHT_MLO_1/1.3.6.1.4.1....\n",
       "ROI mask file path         Mass-Training_P_00057_RIGHT_MLO_1/1.3.6.1.4.1....\n",
       "Name: 40, dtype: object"
      ]
     },
     "execution_count": 64,
     "metadata": {},
     "output_type": "execute_result"
    }
   ],
   "source": [
    "train_df2.iloc[40]"
   ]
  },
  {
   "cell_type": "code",
   "execution_count": 79,
   "id": "baa29cad",
   "metadata": {},
   "outputs": [],
   "source": [
    "import imagesize\n",
    "data = df['image_path'].map(lambda path: imagesize.get(path))\n",
    "width, height = list(zip(*data))\n",
    "df['width'] = width\n",
    "df['height'] = height"
   ]
  },
  {
   "cell_type": "code",
   "execution_count": 80,
   "id": "e80da6d5",
   "metadata": {
    "scrolled": true
   },
   "outputs": [
    {
     "data": {
      "text/plain": [
       "<matplotlib.legend.Legend at 0x7ff4f8c9f670>"
      ]
     },
     "execution_count": 80,
     "metadata": {},
     "output_type": "execute_result"
    },
    {
     "data": {
      "image/png": "[encoded data removed]",
      "text/plain": [
       "<Figure size 864x576 with 1 Axes>"
      ]
     },
     "metadata": {
      "needs_background": "light"
     },
     "output_type": "display_data"
    }
   ],
   "source": [
    "#Plot width and height distribution of images\n",
    "plt.figure(figsize=(12,8))\n",
    "sns.kdeplot(df['width'], shade=True, color='limegreen')\n",
    "sns.kdeplot(df['height'], shade=True, color='gold')\n",
    "plt.legend(['width','height'])"
   ]
  }
 ],
 "metadata": {
  "kernelspec": {
   "display_name": "Python 3",
   "language": "python",
   "name": "python3"
  },
  "language_info": {
   "codemirror_mode": {
    "name": "ipython",
    "version": 3
   },
   "file_extension": ".py",
   "mimetype": "text/x-python",
   "name": "python",
   "nbconvert_exporter": "python",
   "pygments_lexer": "ipython3",
   "version": "3.8.8"
  }
 },
 "nbformat": 4,
 "nbformat_minor": 5
}
